{
 "cells": [
  {
   "cell_type": "code",
   "execution_count": 1,
   "metadata": {},
   "outputs": [],
   "source": [
    "using LinearAlgebra, Statistics\n",
    "using LaTeXStrings, Plots, Interpolations, NLsolve, Optim, Random, Parameters\n",
    "using Optim: maximum, maximizer"
   ]
  },
  {
   "cell_type": "markdown",
   "metadata": {},
   "source": [
    "# Stochastic Optimal Growth Model\n",
    "\n",
    "### The problem\n",
    "\n",
    "Let the sequence of shock process $\\{\\xi_i\\}$ to be i.i.d., with the common distribution denoted by $\\phi$.\n",
    "\n",
    "The household's problem is to maximize\n",
    "$$ \\mathbb{E}_0 \\sum_{t=0}^{\\infty} \\beta^t u(c_t) $$\n",
    "subject to \n",
    "$$ y_{t+1} = f(y_t - c_t) \\xi_{t+1}, \\; 0\\leq c_t \\leq y_t $$\n",
    "\n",
    "Note: one assumes full depreciation of capital each period.\n",
    "\n",
    "\n",
    "### Recursive formulation\n",
    "\n",
    "The problem can be casted in the following recurisve formulation:\n",
    "$$ V(y) = \\max_{0\\leq c\\leq y} \\; u(c) + \\mathbb{E} \\beta V(f(y - c) \\xi) $$"
   ]
  },
  {
   "cell_type": "markdown",
   "metadata": {},
   "source": [
    "## Pseudo-codes\n",
    "We assume a lognormal distribution of the income shock. A simple way to evaluate the integral is by performing a Monte Carlo draw and evaluate the mean.\n",
    "\n",
    "### Method 1: Fitted value function iteration\n",
    "\n",
    "> 1. Choose grid points $\\{y_1, ... y_n\\}$. Choose an initial value function $\\{v_1, ... v_n\\}$. Use linear interpolation to evaluate the value function at points between the two grid points.\n",
    "> 2. For each $1\\leq i \\leq n$, maximize the RHS using a non-linear optimizer. Keep track of both the optimal value attained as well as the optimal policy $c_i$. Update $v_i$ with the attained optimal value.\n",
    "> 3. Iterate until convergence as specified by some threshold.\n",
    "\n",
    "### Method 2: Time iteration/Policy function iteration (Coleman 1990)\n",
    "\n",
    "\n",
    "### Method 3: Endogenous grid method (Carroll 2006)"
   ]
  },
  {
   "cell_type": "code",
   "execution_count": 25,
   "metadata": {},
   "outputs": [
    {
     "data": {
      "text/plain": [
       "6-element extrapolate(scale(interpolate(::Vector{Float64}, BSpline(Linear())), (0.0:0.2:1.0,)), Throw()) with element type Float64:\n",
       " 4.5\n",
       " 3.5597036591092523\n",
       " 0.3939459310451876\n",
       " 1.5610820754199866\n",
       " 1.6958202377275753\n",
       " 5.410947928995602"
      ]
     },
     "metadata": {},
     "output_type": "display_data"
    }
   ],
   "source": [
    "function T(w; p, tol = 1e-10)\n",
    "    (; β, u, f, ξ, y) = p\n",
    "    w_func = LinearInterpolation(y, w)\n",
    "\n",
    "    Tw = similar(w)\n",
    "    σ  = similar(w)\n",
    "\n",
    "    for (i, y_val) in enumerate(y)\n",
    "        results = maximize(c -> u(c;p) + β * mean(w_func.(f(y_val - c;p) .* ξ)), tol, y_val)\n",
    "        Tw[i] = maximum(results)\n",
    "        σ[i]  = maximizer(results)\n",
    "    end\n",
    "    return (;w = Tw, σ)\n",
    "end\n",
    "    "
   ]
  },
  {
   "cell_type": "code",
   "execution_count": null,
   "metadata": {},
   "outputs": [],
   "source": [
    "Random.seed!(42)\n",
    "\n",
    "u(c;p) = log(c) # utility\n",
    "f(k;p) = k^p.α # deterministic part of production function\n",
    "\n",
    "OptimalGrowthModel = @with_kw (β = 0.96, u = u, f=f, ξ=, y)"
   ]
  },
  {
   "cell_type": "code",
   "execution_count": 49,
   "metadata": {},
   "outputs": [
    {
     "data": {
      "text/plain": [
       "250-element Vector{Float64}:\n",
       " 0.9556013519374775\n",
       " 1.1934980177813883\n",
       " 1.172402625244654\n",
       " 0.8807964231677283\n",
       " 1.025425213262734\n",
       " 1.1219033904445948\n",
       " 0.9256282002401406\n",
       " 0.8679126375108249\n",
       " 1.129968329092908\n",
       " 0.9497501526704041\n",
       " ⋮\n",
       " 0.8986317974474225\n",
       " 0.9112953714029784\n",
       " 0.9256661376656466\n",
       " 1.0210821636775953\n",
       " 0.8508324038199886\n",
       " 1.0485668635767804\n",
       " 0.9342587903560345\n",
       " 1.0167332989834477\n",
       " 0.9924991587807761"
      ]
     },
     "metadata": {},
     "output_type": "display_data"
    }
   ],
   "source": [
    "exp.(0 .+ 0.1 * randn(250))"
   ]
  },
  {
   "cell_type": "code",
   "execution_count": 42,
   "metadata": {},
   "outputs": [
    {
     "data": {
      "text/plain": [
       "f (generic function with 1 method)"
      ]
     },
     "metadata": {},
     "output_type": "display_data"
    }
   ],
   "source": [
    "u(c;p) = log(c) # utility\n",
    "f(k;p) = k^p.α # deterministic part of production function"
   ]
  }
 ],
 "metadata": {
  "kernelspec": {
   "display_name": "Julia 1.9.2",
   "language": "julia",
   "name": "julia-1.9"
  },
  "language_info": {
   "file_extension": ".jl",
   "mimetype": "application/julia",
   "name": "julia",
   "version": "1.9.2"
  },
  "orig_nbformat": 4
 },
 "nbformat": 4,
 "nbformat_minor": 2
}
