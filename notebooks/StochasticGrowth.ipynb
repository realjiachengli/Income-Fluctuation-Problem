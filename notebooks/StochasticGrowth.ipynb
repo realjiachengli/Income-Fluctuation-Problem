{
 "cells": [
  {
   "cell_type": "code",
   "execution_count": 52,
   "metadata": {},
   "outputs": [],
   "source": [
    "using LinearAlgebra, Statistics\n",
    "using LaTeXStrings, Plots, Interpolations, Roots, Optim, Random, Parameters\n",
    "using Optim: maximum, maximizer"
   ]
  },
  {
   "cell_type": "markdown",
   "metadata": {},
   "source": [
    "# Stochastic Optimal Growth Model\n",
    "\n",
    "### The problem\n",
    "\n",
    "Let the sequence of shock process $\\{\\xi_i\\}$ to be i.i.d., with the common distribution denoted by $\\phi$.\n",
    "\n",
    "The household's problem is to maximize\n",
    "$$ \\mathbb{E}_0 \\sum_{t=0}^{\\infty} \\beta^t u(c_t) $$\n",
    "subject to \n",
    "$$ y_{t+1} = f(y_t - c_t) \\xi_{t+1}, \\; 0\\leq c_t \\leq y_t $$\n",
    "\n",
    "Note: one assumes full depreciation of capital each period.\n",
    "\n",
    "\n",
    "### Recursive formulation\n",
    "The problem can be casted in the following recurisve formulation:\n",
    "$$ V(y) = \\max_{0\\leq c\\leq y} \\; u(c) + \\mathbb{E} \\beta V(f(y - c) \\xi)   \\tag{1} $$\n",
    "\n",
    "### Method 1: Value function iteration\n",
    "One can directly iterate on $V$ in the functional equation (1) via:\n",
    "$$ Tv(y) = \\max_{0\\leq c\\leq y} \\; u(c) + \\mathbb{E} \\beta v(f(y - c) \\xi)   \\tag{2} $$\n",
    "We seek a fixed point $v^{*} = Tv^{*}$.\n",
    "\n",
    "### Method 2: Policy function iteration\n",
    "Applying the first order condition to (1) yields:\n",
    "$$ u'(c^{*}) = \\mathbb{E} \\beta V'(f(y - c^{*}) \\xi) f'(y-c^{*}) \\xi $$\n",
    "which, combined with the envelop condition, $ V'(y) = u'(c^{*}(y)) $, yields the Euler equation:\n",
    "$$ u'(c^{*}(y)) = \\mathbb{E} \\beta u'(c^{*}(f(y - c^{*}(y)) \\xi )) f'(y-c^{*}(y)) \\xi \\tag{3} $$\n",
    "To see why the envelop condition holds, note that the problem is equivalent to the one in which one chooses $k$, and $c = y - k$.\n",
    "\n",
    "Equation (3) can be viewed as a functional equation in the policy function $c(y)$. To find the policy function that satisfies (3), one can come up with the following iterative procedure:\n",
    "$$ u'(\\sigma(y)) = \\mathbb{E} \\beta u'(\\sigma(f(y - c) \\xi) ) f'(y-c) \\xi \\tag{4} $$\n",
    "The operator $K$ (Coleman operator) takes a given policy function $\\sigma$ as given and solve for $c$ for each given $y$. This gives $K\\sigma$ in the policy space. We seek a fixed point $\\sigma^{*} = K\\sigma^{*}$\n"
   ]
  },
  {
   "cell_type": "markdown",
   "metadata": {},
   "source": [
    "## Pseudo-codes\n",
    "We assume a lognormal distribution of the income shock. A simple way to evaluate the integral is by performing a Monte Carlo draw and evaluate the mean.\n",
    "\n",
    "### Method 1: Fitted value function iteration\n",
    "\n",
    "> 1. Choose grid points $\\{y_1, ... y_n\\}$. Choose an initial value function $\\{v_1, ... v_n\\}$. Use linear interpolation to evaluate the value function at points between the two grid points.\n",
    "> 2. For each $1\\leq i \\leq n$, maximize the RHS of (1) using a non-linear optimizer. Keep track of both the optimal value attained as well as the optimal policy $c_i$. Update $v_i$ with the attained optimal value.\n",
    "> 3. Iterate until convergence as specified by some threshold.\n",
    "\n",
    "### Method 2: Time iteration/Policy function iteration (Coleman 1990)\n",
    "> 1. Choose grid points $\\{y_1, ... y_n\\}$. Choose an initial policy function $\\{\\sigma_1, ... \\sigma_n\\}$.  Use linear interpolation to evalute $\\sigma$ off the grid points.\n",
    "> 2. For each $1\\leq i \\leq n$, solve for $c$ in equation (4) using a non-linear solver. Update the policy function on the grid points by $c_1, ..., c_n$.\n",
    "> 3. Iterate until cnovergence as specified by some threshold.\n",
    "\n",
    "\n",
    "### Method 3: Endogenous grid method (Carroll 2006)"
   ]
  },
  {
   "cell_type": "code",
   "execution_count": null,
   "metadata": {},
   "outputs": [],
   "source": [
    "# ========== Method 1: value function iteration ==========\n",
    "\n",
    "# a bellman operator\n",
    "function T_VFI(v0; params, c_lb=1e-10)\n",
    "    (; y_grid, ξ, β, u, f) = params\n",
    "\n",
    "    v1 = similar(v0)    # new value function\n",
    "    c  = similar(v0)    # optimal policy function\n",
    "    v0_func = LinearInterpolation(y_grid, v0, extrapolation_bc=Line())\n",
    "\n",
    "    for i, y in enumerate(y_grid)\n",
    "        res = maximize(c -> -(u(c; params) + β * mean(v0_func.(f(y - c) .* ξ))), c_lb, y)\n",
    "        v1[i] = minimum(res)\n",
    "        c[i]  = minimizer(res)\n",
    "    end\n",
    "\n",
    "    return (;v=v1, c)\n",
    "end\n",
    "\n",
    "# ========== Method 2: value function iteration ==========\n",
    "\n",
    "# a Coleman operator\n",
    "function K_PFI(σ0; params, c_lb=1e-10)\n",
    "    (; y_grid, ξ, β, u, du, f, df) = params\n",
    "\n",
    "    σ1 = similar(σ0)    # new policy function\n",
    "    σ0_func = LinearInterpolation(y_grid, σ0, extrapolation_bc=Line())\n",
    "\n",
    "    for i, y in enumerate(y_grid)\n",
    "        fn2solve(c) = du(σ0_func(y)) - mean(β * du(σ0_func.(f(y - c) .* ξ)) .* df(y - c) .* ξ)\n",
    "        σ1[i] = find_zero(σ0_func, c_lb, y)\n",
    "    end\n",
    "\n",
    "    return (;σ1)\n",
    "end\n",
    "\n",
    "# ========== Method 3: endogenous grid method ==========\n",
    "\n",
    "# a Coleman operator\n",
    "function K_PFI(σ0; params, c_lb=1e-10)\n",
    "    (; y_grid, ξ, β, u, du, f, df) = params\n",
    "\n",
    "    σ1 = similar(σ0)    # new policy function\n",
    "    σ0_func = LinearInterpolation(y_grid, σ0, extrapolation_bc=Line())\n",
    "\n",
    "    for i, y in enumerate(y_grid)\n",
    "        fn2solve(c) = du(σ0_func(y)) - mean(β * du(σ0_func.(f(y - c) .* ξ)) .* df(y - c) .* ξ)\n",
    "        σ1[i] = find_zero(σ0_func, c_lb, y)\n",
    "    end\n",
    "\n",
    "    return (;σ1)\n",
    "end\n"
   ]
  },
  {
   "cell_type": "code",
   "execution_count": 70,
   "metadata": {},
   "outputs": [
    {
     "data": {
      "text/plain": [
       "3-element Vector{Int64}:\n",
       " 3\n",
       " 6\n",
       " 9"
      ]
     },
     "metadata": {},
     "output_type": "display_data"
    }
   ],
   "source": [
    "[1,2,3] .* 3 .* [1,1,1]"
   ]
  }
 ],
 "metadata": {
  "kernelspec": {
   "display_name": "Julia 1.9.2",
   "language": "julia",
   "name": "julia-1.9"
  },
  "language_info": {
   "file_extension": ".jl",
   "mimetype": "application/julia",
   "name": "julia",
   "version": "1.9.2"
  },
  "orig_nbformat": 4
 },
 "nbformat": 4,
 "nbformat_minor": 2
}
